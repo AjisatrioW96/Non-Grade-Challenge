{
 "cells": [
  {
   "attachments": {},
   "cell_type": "markdown",
   "metadata": {},
   "source": [
    "`NON GRADE CHALLENGE 4`\n",
    "\n",
    "---"
   ]
  },
  {
   "attachments": {},
   "cell_type": "markdown",
   "metadata": {},
   "source": [
    "\n",
    "- Buatlah sebuah function yang dapat mengkonversi suhu dari kelvin ke celcius, dan celcius ke kelvin.\n",
    "- Buatlah sebuah function yang dapat mengkonversi suhu ke fahrenheit. Tambahkan parameter untuk memastikan bahwa argumen yang dimasukan adalah celcius atau kelvin. Panggil function yang pertama jika diperlukan.\n",
    "- Buatlah sebuah function yang dapat mengkonversi suhu dari fahrenheit. Berikan argumen untuk memastikan bahwa outputnya dalah celcius atau kelvin.\n",
    "- Berikan dokumentasi pada setiap baris kode yang kalian tulis."
   ]
  },
  {
   "cell_type": "code",
   "execution_count": 12,
   "metadata": {},
   "outputs": [
    {
     "name": "stdout",
     "output_type": "stream",
     "text": [
      "Hasil konversi 300 kelvin ke celcius : -73.14999999999998\n",
      "Hasil konversi 50 celcius ke kelvin : 323.15\n"
     ]
    }
   ],
   "source": [
    "#Membuat fungsi konversi suhu ke kelvin dan celcius ke kelvin\n",
    "def kelvin_to_celsius(kelvin):\n",
    "    celsius = kelvin - 273.15\n",
    "    return celsius\n",
    "\n",
    "def celsius_to_kelvin(celsius):\n",
    "    kelvin = celsius + 273.15\n",
    "    return kelvin\n",
    "\n",
    "kelvin = 200\n",
    "celcius = 50\n",
    "k_c = kelvin_to_celsius(kelvin) \n",
    "c_k = celsius_to_kelvin(celcius)\n",
    "\n",
    "print('Hasil konversi 300 kelvin ke celcius :' , format(k_c))\n",
    "print('Hasil konversi 50 celcius ke kelvin :', format(c_k))"
   ]
  },
  {
   "cell_type": "code",
   "execution_count": 14,
   "metadata": {},
   "outputs": [
    {
     "name": "stdout",
     "output_type": "stream",
     "text": [
      "Hasil konversi 70 celcius ke fahrenheit : 158.0\n",
      "Hasil konversi 250 kelvin ke fahrenheit : -9.669999999999959\n",
      "Hasil konversi 250 kelvin ke fahrenheit : Unit suhu tidak valid\n"
     ]
    }
   ],
   "source": [
    "def convert_to_fahrenheit(suhu, unit):\n",
    "    if unit == \"C\":\n",
    "        fahrenheit = (suhu * 9/5) + 32\n",
    "    elif unit == \"K\":\n",
    "        celsius = kelvin_to_celsius(suhu)\n",
    "        fahrenheit = (celsius * 9/5) + 32\n",
    "    else:\n",
    "        return \"Unit suhu tidak valid\"\n",
    "    \n",
    "    return fahrenheit\n",
    "\n",
    "c_f = convert_to_fahrenheit(70, \"C\")\n",
    "k_f =convert_to_fahrenheit(250, \"K\")\n",
    "f_f = convert_to_fahrenheit(250, \"F\")\n",
    "\n",
    "print('Hasil konversi 70 celcius ke fahrenheit :' , format(c_f))\n",
    "print('Hasil konversi 250 kelvin ke fahrenheit :', format(k_f))\n",
    "print('Hasil konversi 250 kelvin ke fahrenheit :', format(f_f))"
   ]
  },
  {
   "cell_type": "code",
   "execution_count": 16,
   "metadata": {},
   "outputs": [
    {
     "name": "stdout",
     "output_type": "stream",
     "text": [
      "Hasil konversi 70 kelvin ke celcius : 21.11111111111111\n",
      "Hasil konversi 30 kelvin ke celcius : 272.0388888888889\n"
     ]
    }
   ],
   "source": [
    "def convert_to_celsius_or_kelvin(suhu, unit, target_unit):\n",
    "    if unit == \"F\" and target_unit == \"C\":\n",
    "        celsius = 5/9 * (suhu - 32)\n",
    "        return celsius\n",
    "    elif unit == \"F\" and target_unit == \"K\":\n",
    "        kelvin = 5/9 * (suhu + 459.67)\n",
    "        return kelvin\n",
    "    else:\n",
    "        return \"Unit suhu tidak valid\"\n",
    "\n",
    "\n",
    "f_c = convert_to_celsius_or_kelvin(70, \"F\", \"C\")\n",
    "print('Hasil konversi 70 kelvin ke celcius :' , format(f_c))\n",
    "\n",
    "f_k = convert_to_celsius_or_kelvin(30, \"F\", \"K\")\n",
    "print('Hasil konversi 30 kelvin ke celcius :' , format(f_k))"
   ]
  }
 ],
 "metadata": {
  "kernelspec": {
   "display_name": "base",
   "language": "python",
   "name": "python3"
  },
  "language_info": {
   "codemirror_mode": {
    "name": "ipython",
    "version": 3
   },
   "file_extension": ".py",
   "mimetype": "text/x-python",
   "name": "python",
   "nbconvert_exporter": "python",
   "pygments_lexer": "ipython3",
   "version": "3.9.16"
  },
  "orig_nbformat": 4
 },
 "nbformat": 4,
 "nbformat_minor": 2
}
