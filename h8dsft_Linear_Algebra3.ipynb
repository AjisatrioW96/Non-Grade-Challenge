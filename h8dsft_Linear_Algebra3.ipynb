{
 "cells": [
  {
   "attachments": {},
   "cell_type": "markdown",
   "metadata": {},
   "source": [
    "`Non Graded Challenge 6`\n",
    "\n",
    "---"
   ]
  },
  {
   "attachments": {},
   "cell_type": "markdown",
   "metadata": {},
   "source": [
    "Apakah $\\begin{bmatrix}1 \\\\3\\end{bmatrix}$ adalah eigenvector dari $\\begin{bmatrix}1 & -1\\\\6 &-4 \\end{bmatrix}$? Jika iya, berapakah eigenvalue-nya?"
   ]
  },
  {
   "cell_type": "code",
   "execution_count": 12,
   "metadata": {},
   "outputs": [
    {
     "name": "stdout",
     "output_type": "stream",
     "text": [
      "[-2 18]\n",
      " Hasil perkalian A dan B dimana menghasilkan [-2 18] bukan merupakan hasil perkalian skalar dari vector B, sehingga B bukan eigenvector dari A\n",
      "\n",
      " Eigenvalues \n",
      " [2.5+1.93649167j 2.5-1.93649167j]\n",
      "\n",
      " Eigen vector \n",
      " [[-0.23145502+0.29880715j -0.23145502-0.29880715j]\n",
      " [ 0.9258201 +0.j          0.9258201 -0.j        ]]\n",
      "\n",
      " Hasil dari rekonstruksi matriks : \n",
      " [[ 1.+4.4408921e-16j -1.+0.0000000e+00j]\n",
      " [ 6.-4.4408921e-16j  4.+0.0000000e+00j]]\n"
     ]
    }
   ],
   "source": [
    "import numpy as np\n",
    "from numpy import array\n",
    "from numpy import diag\n",
    "from numpy.linalg import det\n",
    "from numpy.linalg import eig,inv\n",
    "A = array ([[1, -1],\n",
    "           [6,4]])\n",
    "\n",
    "B = array ([1, 3])\n",
    "\n",
    "\n",
    "G = A @ B\n",
    "print (G)\n",
    "print (' Hasil perkalian A dan B dimana menghasilkan', G , 'bukan merupakan hasil perkalian skalar dari vector B, sehingga B bukan eigenvector dari A')\n",
    "\n",
    "#maka untuk mencari eigenvalue dan eigen vectornya yaitu dengan cara dibawah ini\n",
    "eigvalues, eigvector = eig(A)\n",
    "\n",
    "print ( '')\n",
    "print (' Eigenvalues \\n', eigvalues)\n",
    "print ( '')\n",
    "print (' Eigen vector \\n', eigvector)\n",
    "\n",
    "#untuk merekonstruksi matriks awal maka digunakan cara \n",
    "F= eigvector.dot(diag(eigvalues)).dot(inv(eigvector))\n",
    "print ('\\n Hasil dari rekonstruksi matriks : \\n', F)\n"
   ]
  }
 ],
 "metadata": {
  "kernelspec": {
   "display_name": "base",
   "language": "python",
   "name": "python3"
  },
  "language_info": {
   "codemirror_mode": {
    "name": "ipython",
    "version": 3
   },
   "file_extension": ".py",
   "mimetype": "text/x-python",
   "name": "python",
   "nbconvert_exporter": "python",
   "pygments_lexer": "ipython3",
   "version": "3.9.16"
  },
  "orig_nbformat": 4
 },
 "nbformat": 4,
 "nbformat_minor": 2
}
